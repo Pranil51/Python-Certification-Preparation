{
 "cells": [
  {
   "cell_type": "markdown",
   "metadata": {},
   "source": [
    "Regex Query Tool - A tool that allows the user to enter a text string and then in a separate control enter a regex pattern. It will run the regular expression against the source text and return any matches or flag errors in the regular expression."
   ]
  },
  {
   "cell_type": "code",
   "execution_count": 1,
   "metadata": {},
   "outputs": [],
   "source": [
    "import re"
   ]
  },
  {
   "cell_type": "code",
   "execution_count": 9,
   "metadata": {},
   "outputs": [],
   "source": [
    "\n",
    "class RegxQueryTool:\n",
    "    def __init__(self,txt):\n",
    "        self.txt=txt\n",
    "    def MatchPattern(self,pattern):\n",
    "       return  re.match(pattern,self.txt)"
   ]
  },
  {
   "cell_type": "code",
   "execution_count": 11,
   "metadata": {},
   "outputs": [
    {
     "data": {
      "text/plain": [
       "<re.Match object; span=(0, 1), match='a'>"
      ]
     },
     "execution_count": 11,
     "metadata": {},
     "output_type": "execute_result"
    }
   ],
   "source": [
    "a=re.match(\"a\",\"asdf\")\n",
    "a"
   ]
  },
  {
   "cell_type": "code",
   "execution_count": 12,
   "metadata": {},
   "outputs": [
    {
     "data": {
      "text/plain": [
       "<re.Match object; span=(0, 1), match='P'>"
      ]
     },
     "execution_count": 12,
     "metadata": {},
     "output_type": "execute_result"
    }
   ],
   "source": [
    "a=RegxQueryTool(\"Pranil_Patil\")\n",
    "a.MatchPattern(\"P\")"
   ]
  },
  {
   "cell_type": "code",
   "execution_count": 13,
   "metadata": {},
   "outputs": [],
   "source": [
    "import random"
   ]
  },
  {
   "cell_type": "code",
   "execution_count": 25,
   "metadata": {},
   "outputs": [
    {
     "data": {
      "text/plain": [
       "[1, 4]"
      ]
     },
     "execution_count": 25,
     "metadata": {},
     "output_type": "execute_result"
    }
   ],
   "source": [
    "l=[1,2,3,4]\n",
    "a=random.choices(l,weights=None, cum_weights=None, k=2)\n",
    "a"
   ]
  },
  {
   "cell_type": "markdown",
   "metadata": {},
   "source": [
    "2.) Quiz Maker - Make an application which takes various questions from a file, picked randomly, and puts together a quiz for students. Each quiz can be different and then reads a key to grade the quizzes."
   ]
  },
  {
   "cell_type": "code",
   "execution_count": 4,
   "metadata": {},
   "outputs": [],
   "source": [
    "import json\n",
    "import random"
   ]
  },
  {
   "cell_type": "code",
   "execution_count": 78,
   "metadata": {},
   "outputs": [],
   "source": [
    "Quizdata={\"How many continents are in the world?\":'7',\"Which is first color in Indian National Flag?\":\"saffron\",\"How Many states are there in India?\":\"29\",\"What is capital of India?\":\"new delhi\",\"Where is India Gate situated?\":\"mumbai\", \"Which is newest UT of India?\":\"ladakh\", \"In which city  TAJ Mahal situated?\":\"agra\"}\n"
   ]
  },
  {
   "cell_type": "code",
   "execution_count": 79,
   "metadata": {},
   "outputs": [],
   "source": [
    "fpath=\"quizdata.json\"\n",
    "with open(fpath,\"w\") as fptr:\n",
    "    fptr.seek(0)\n",
    "    fptr.truncate()\n",
    "    json.dump(Quizdata,fptr)"
   ]
  },
  {
   "cell_type": "code",
   "execution_count": 22,
   "metadata": {},
   "outputs": [
    {
     "data": {
      "text/plain": [
       "['How many continents are in the world?',\n",
       " 'How many continents are in the world?',\n",
       " 'How many continents are in the world?',\n",
       " 'How many continents are in the world?',\n",
       " 'How many continents are in the world?',\n",
       " 'How many continents are in the world?',\n",
       " 'How many continents are in the world?']"
      ]
     },
     "execution_count": 22,
     "metadata": {},
     "output_type": "execute_result"
    }
   ],
   "source": [
    "a=random.choices([k for k,v in Quizdata.items()],cum_weights =[1/len(Quizdata) for i in range(len(Quizdata))], k=7)\n",
    "a"
   ]
  },
  {
   "cell_type": "code",
   "execution_count": 23,
   "metadata": {},
   "outputs": [
    {
     "name": "stdout",
     "output_type": "stream",
     "text": [
      "['banana', 'cherry', 'apple', 'apple', 'apple', 'apple', 'apple', 'banana', 'apple', 'apple', 'apple', 'cherry', 'apple', 'apple']\n"
     ]
    }
   ],
   "source": [
    "mylist = [\"apple\", \"banana\", \"cherry\"]\n",
    "\n",
    "print(random.choices(mylist, weights = [10, 1, 1], k = 14))"
   ]
  },
  {
   "cell_type": "code",
   "execution_count": 17,
   "metadata": {},
   "outputs": [
    {
     "data": {
      "text/plain": [
       "[1, 1, 1, 1, 1, 1, 1]"
      ]
     },
     "execution_count": 17,
     "metadata": {},
     "output_type": "execute_result"
    }
   ],
   "source": [
    "[1 for i in range(len(Quizdata))]"
   ]
  },
  {
   "cell_type": "code",
   "execution_count": 23,
   "metadata": {},
   "outputs": [],
   "source": [
    "\n",
    "      "
   ]
  },
  {
   "cell_type": "markdown",
   "metadata": {},
   "source": [
    " QUIZ"
   ]
  },
  {
   "cell_type": "code",
   "execution_count": 66,
   "metadata": {},
   "outputs": [],
   "source": [
    "class Quiz:\n",
    "    def __init__(self,qzdata,numOFque):\n",
    "        self.qzdata=qzdata   \n",
    "        with open(self.qzdata,\"r\") as fptr:\n",
    "            dictdata=json.load(fptr)\n",
    "        self.dictdata=dictdata\n",
    "        self.numOFque=numOFque\n",
    "    def StartQuiz(self):                           \n",
    "        if len(self.dictdata)<self.numOFque:\n",
    "            return \"ERR: Not enough quesions\"            \n",
    "        l=[k for k,v in self.dictdata.items()]\n",
    "        l2=[]\n",
    "        w=0\n",
    "        while w<self.numOFque:\n",
    "            a=random.choice(l)\n",
    "            if a not in l2:\n",
    "                l2.append(a)\n",
    "                w=w+1\n",
    "        return l2\n",
    "    def Grade_Student(self,q,a):    \n",
    "        \n",
    "        Grade=0\n",
    "        for i,j in zip(q,a):\n",
    "            if self.dictdata[i]==j:\n",
    "                Grade = Grade+ 1\n",
    "        return Grade    \n",
    "        \n",
    "class Student:\n",
    "    def __init__(self,name, role_num):\n",
    "        self.name=name\n",
    "        self.role_num=role_num\n",
    "\n",
    "    def TakeQuiz(self,quizO):\n",
    "        l=quizO.StartQuiz()\n",
    "        a=1\n",
    "        for i in l:\n",
    "            print(f\"{a}.{i}\",\"\\n\")\n",
    "            a=a+1\n",
    "        print(\"Enter Answers Seperated by a comma.\\nIf u dont know the answer put 0 in place\")        \n",
    "        return l\n",
    "    \n",
    "    def Answers(self,x):\n",
    "        return (x.lower()).split(\",\")\n",
    "    \n",
    "    "
   ]
  },
  {
   "cell_type": "code",
   "execution_count": 18,
   "metadata": {},
   "outputs": [
    {
     "ename": "NameError",
     "evalue": "name 'Quiz' is not defined",
     "output_type": "error",
     "traceback": [
      "\u001b[1;31m---------------------------------------------------------------------------\u001b[0m",
      "\u001b[1;31mNameError\u001b[0m                                 Traceback (most recent call last)",
      "\u001b[1;32mc:\\Users\\91805\\Desktop\\Untitled Folder\\pyhon cert1.ipynb Cell 18'\u001b[0m in \u001b[0;36m<cell line: 2>\u001b[1;34m()\u001b[0m\n\u001b[0;32m      <a href='vscode-notebook-cell:/c%3A/Users/91805/Desktop/Untitled%20Folder/pyhon%20cert1.ipynb#ch0000016?line=0'>1</a>\u001b[0m fpath\u001b[39m=\u001b[39m\u001b[39m\"\u001b[39m\u001b[39mquizdata.json\u001b[39m\u001b[39m\"\u001b[39m\n\u001b[1;32m----> <a href='vscode-notebook-cell:/c%3A/Users/91805/Desktop/Untitled%20Folder/pyhon%20cert1.ipynb#ch0000016?line=1'>2</a>\u001b[0m o\u001b[39m=\u001b[39mQuiz(fpath,\u001b[39m5\u001b[39m)\n\u001b[0;32m      <a href='vscode-notebook-cell:/c%3A/Users/91805/Desktop/Untitled%20Folder/pyhon%20cert1.ipynb#ch0000016?line=2'>3</a>\u001b[0m sol\u001b[39m=\u001b[39mo\u001b[39m.\u001b[39mStartQuiz()\n\u001b[0;32m      <a href='vscode-notebook-cell:/c%3A/Users/91805/Desktop/Untitled%20Folder/pyhon%20cert1.ipynb#ch0000016?line=3'>4</a>\u001b[0m pranil\u001b[39m=\u001b[39mStudent(\u001b[39m\"\u001b[39m\u001b[39mPranil\u001b[39m\u001b[39m\"\u001b[39m,\u001b[39m34\u001b[39m)\n",
      "\u001b[1;31mNameError\u001b[0m: name 'Quiz' is not defined"
     ]
    }
   ],
   "source": [
    "fpath=\"quizdata.json\"\n",
    "o=Quiz(fpath,5)\n",
    "sol=o.StartQuiz()\n",
    "pranil=Student(\"Pranil\",34)\n",
    "q=pranil.TakeQuiz(o)\n",
    "x=(input())\n",
    "ans=pranil.Answers(x)\n",
    "o.Grade_Student(q,ans)\n"
   ]
  },
  {
   "cell_type": "markdown",
   "metadata": {},
   "source": [
    "3.) Sort Excel/CSV File Utility - Reads a file of records, sorts them, and then writes them back to the file. Allow the user to choose various sort style and sorting based on a particular field."
   ]
  },
  {
   "cell_type": "code",
   "execution_count": 16,
   "metadata": {},
   "outputs": [],
   "source": [
    "\n"
   ]
  },
  {
   "cell_type": "code",
   "execution_count": 4,
   "metadata": {},
   "outputs": [],
   "source": [
    "import csv\n",
    "import openpyxl"
   ]
  },
  {
   "cell_type": "code",
   "execution_count": 120,
   "metadata": {},
   "outputs": [
    {
     "name": "stdout",
     "output_type": "stream",
     "text": [
      "1\n",
      "asd\n"
     ]
    }
   ],
   "source": [
    "#get values in column\n",
    "wb_obj = openpyxl.load_workbook(fpath1) #create object\n",
    "sheet_obj = wb_obj.active                 # get active sheet\n",
    "m_row = sheet_obj.max_row                  # get max number of rows\n",
    "for i in range(1, m_row + 1):\n",
    "    cell_obj = sheet_obj.cell(row = i, column = 1)    \n",
    "    print(cell_obj.value)"
   ]
  },
  {
   "cell_type": "code",
   "execution_count": 10,
   "metadata": {},
   "outputs": [],
   "source": [
    "fpath1=\"data.xlsx\"\n",
    "fpath2=\"csvdata.csv\"\n"
   ]
  },
  {
   "cell_type": "code",
   "execution_count": 11,
   "metadata": {},
   "outputs": [
    {
     "ename": "UnsupportedOperation",
     "evalue": "not writable",
     "output_type": "error",
     "traceback": [
      "\u001b[1;31m---------------------------------------------------------------------------\u001b[0m",
      "\u001b[1;31mUnsupportedOperation\u001b[0m                      Traceback (most recent call last)",
      "\u001b[1;32mc:\\Users\\91805\\Desktop\\Untitled Folder\\pyhon cert1.ipynb Cell 24'\u001b[0m in \u001b[0;36m<cell line: 2>\u001b[1;34m()\u001b[0m\n\u001b[0;32m      <a href='vscode-notebook-cell:/c%3A/Users/91805/Desktop/Untitled%20Folder/pyhon%20cert1.ipynb#ch0000031?line=2'>3</a>\u001b[0m w\u001b[39m=\u001b[39mcsv\u001b[39m.\u001b[39mwriter(fptr)\n\u001b[0;32m      <a href='vscode-notebook-cell:/c%3A/Users/91805/Desktop/Untitled%20Folder/pyhon%20cert1.ipynb#ch0000031?line=3'>4</a>\u001b[0m \u001b[39mfor\u001b[39;00m i \u001b[39min\u001b[39;00m data:\n\u001b[1;32m----> <a href='vscode-notebook-cell:/c%3A/Users/91805/Desktop/Untitled%20Folder/pyhon%20cert1.ipynb#ch0000031?line=4'>5</a>\u001b[0m     w\u001b[39m.\u001b[39;49mwriterows(i)\n",
      "\u001b[1;31mUnsupportedOperation\u001b[0m: not writable"
     ]
    }
   ],
   "source": [
    "\n"
   ]
  },
  {
   "cell_type": "code",
   "execution_count": 37,
   "metadata": {},
   "outputs": [
    {
     "ename": "AttributeError",
     "evalue": "'FileUtiltySorter' object has no attribute 'reader'",
     "output_type": "error",
     "traceback": [
      "\u001b[1;31m---------------------------------------------------------------------------\u001b[0m",
      "\u001b[1;31mAttributeError\u001b[0m                            Traceback (most recent call last)",
      "\u001b[1;32mc:\\Users\\91805\\Desktop\\Untitled Folder\\pyhon cert1.ipynb Cell 25'\u001b[0m in \u001b[0;36m<cell line: 3>\u001b[1;34m()\u001b[0m\n\u001b[0;32m      <a href='vscode-notebook-cell:/c%3A/Users/91805/Desktop/Untitled%20Folder/pyhon%20cert1.ipynb#ch0000032?line=0'>1</a>\u001b[0m d\u001b[39m=\u001b[39m[]\n\u001b[0;32m      <a href='vscode-notebook-cell:/c%3A/Users/91805/Desktop/Untitled%20Folder/pyhon%20cert1.ipynb#ch0000032?line=1'>2</a>\u001b[0m f\u001b[39m=\u001b[39m\u001b[39mopen\u001b[39m(fpath2,\u001b[39m\"\u001b[39m\u001b[39mr+\u001b[39m\u001b[39m\"\u001b[39m)\n\u001b[1;32m----> <a href='vscode-notebook-cell:/c%3A/Users/91805/Desktop/Untitled%20Folder/pyhon%20cert1.ipynb#ch0000032?line=2'>3</a>\u001b[0m r\u001b[39m=\u001b[39mcsv\u001b[39m.\u001b[39;49mreader(f)\n\u001b[0;32m      <a href='vscode-notebook-cell:/c%3A/Users/91805/Desktop/Untitled%20Folder/pyhon%20cert1.ipynb#ch0000032?line=3'>4</a>\u001b[0m \u001b[39mfor\u001b[39;00m lines \u001b[39min\u001b[39;00m r:\n\u001b[0;32m      <a href='vscode-notebook-cell:/c%3A/Users/91805/Desktop/Untitled%20Folder/pyhon%20cert1.ipynb#ch0000032?line=4'>5</a>\u001b[0m    d\u001b[39m.\u001b[39mappend(lines)\n",
      "\u001b[1;31mAttributeError\u001b[0m: 'FileUtiltySorter' object has no attribute 'reader'"
     ]
    }
   ],
   "source": [
    "d=[]\n",
    "f=open(fpath2,\"r+\")\n",
    "r=csv.reader(f)\n",
    "for lines in r:\n",
    "   d.append(lines)\n",
    "d"
   ]
  },
  {
   "cell_type": "markdown",
   "metadata": {},
   "source": []
  },
  {
   "cell_type": "code",
   "execution_count": 137,
   "metadata": {},
   "outputs": [
    {
     "data": {
      "text/plain": [
       "True"
      ]
     },
     "execution_count": 137,
     "metadata": {},
     "output_type": "execute_result"
    }
   ],
   "source": [
    "fpath2.split(\".\")[-1].lower()==\"csv\""
   ]
  },
  {
   "cell_type": "code",
   "execution_count": 2,
   "metadata": {},
   "outputs": [],
   "source": [
    "class FileUtiltySorter:\n",
    "    def __init__(self,fpath):\n",
    "        self.fpath=fpath\n",
    "    def AscendingSort(self):\n",
    "        data=[]\n",
    "        if self.fpath.split(\".\")[-1].lower()==\"csv\":\n",
    "            \n",
    "            with open(self.fpath,\"r\") as fptr:\n",
    "                robj=csv.reader(fptr)\n",
    "                for lines in robj:\n",
    "                    data.append(lines)\n",
    "            data.sort()\n",
    "            with open(self.fpath,\"w\") as fptr:\n",
    "                fptr.seek(0)\n",
    "                fptr.truncate()\n",
    "                wobj = csv.writer(fptr)\n",
    "                for lines in data:\n",
    "                    wobj.writerows(lines)\n",
    "                    \n",
    "        if self.fpath.split(\".\")[-1].lower()==\"xlsx\":\n",
    "            wb_obj = openpyxl.load_workbook(self.fpath) #create object\n",
    "            sheet_obj = wb_obj.active                 # get active sheet\n",
    "            m_row = sheet_obj.max_row                  # get max number of rows\n",
    "            for i in range(1, m_row + 1):\n",
    "                cell_obj = sheet_obj.cell(row = i, column = 1)    \n",
    "                data.append(str(cell_obj.value))\n",
    "                print(data)\n",
    "            data.sort()\n",
    "            for i in data:\n",
    "                print(i)\n",
    "                for j in range(1, m_row + 1):\n",
    "                    c1 = sheet_obj.cell(row = j, column = 1)\n",
    "                    c1.value=i\n",
    "            \n",
    "\n",
    "    def DescendingSort(self):\n",
    "        data=[]\n",
    "        if self.fpath.split(\".\")[-1].lower()==\"csv\":\n",
    "            \n",
    "            with open(self.fpath,\"r\") as fptr:\n",
    "                robj=csv.reader(fptr)\n",
    "                for lines in robj:\n",
    "                    data.append(lines)\n",
    "            data.sort(reverse=True)\n",
    "            with open(self.fpath,\"w\") as fptr:\n",
    "                fptr.seek(0)\n",
    "                fptr.truncate()\n",
    "                wobj = csv.writer(fptr)\n",
    "                for lines in data:\n",
    "                    wobj.writerows(lines)\n",
    "                    \n",
    "        if self.fpath.split(\".\")[-1].lower()==\"xlsx\":\n",
    "            wb_obj = openpyxl.load_workbook(self.fpath) #create object\n",
    "            sheet_obj = wb_obj.active                 # get active sheet\n",
    "            m_row = sheet_obj.max_row                  # get max number of rows\n",
    "            for i in range(1, m_row + 1):\n",
    "                cell_obj = sheet_obj.cell(row = i, column = 1)    \n",
    "                data.append(str(cell_obj.value))\n",
    "                \n",
    "            data.sort(reverse=True)\n",
    "            for i in data:\n",
    "                print(i)\n",
    "                for j in range(1, m_row + 1):\n",
    "                    c1 = sheet_obj.cell(row = j, column = 1)\n",
    "                    c1.value=i\n",
    "            print(data)\n",
    "        \n",
    "\n",
    "fpath1=\"data.xlsx\"\n",
    "fpath2=\"csvdata.csv\"\n"
   ]
  },
  {
   "cell_type": "code",
   "execution_count": 5,
   "metadata": {},
   "outputs": [
    {
     "name": "stdout",
     "output_type": "stream",
     "text": [
      "['1']\n",
      "['1', 'asd']\n",
      "1\n",
      "asd\n"
     ]
    }
   ],
   "source": [
    "d=[\"a\",\"2\",\"3\",\"4\",\"1\"]\n",
    "with open(fpath2,\"r+\") as fptr:\n",
    "    wobj=csv.writer(fptr)\n",
    "    for line in d:\n",
    "        wobj.writerow(line)\n",
    "xl=FileUtiltySorter(fpath1)\n",
    "# a=xl.DescendingSort()  \n",
    "b=xl.AscendingSort()     #ascending sort\n",
    "cs=FileUtiltySorter(fpath2)\n",
    "# a=cs.DescendingSort()       \n",
    "b=cs.AscendingSort()      \n"
   ]
  },
  {
   "cell_type": "code",
   "execution_count": 90,
   "metadata": {},
   "outputs": [
    {
     "name": "stdout",
     "output_type": "stream",
     "text": [
      "[50, 65, 23, 82, 100]\n"
     ]
    }
   ],
   "source": [
    "def myfunc(n):\n",
    "  return abs(n - 50)\n",
    "\n",
    "thislist = [100, 50, 65, 82, 23]\n",
    "thislist.sort(key = myfunc)\n",
    "print(thislist)\n"
   ]
  },
  {
   "cell_type": "code",
   "execution_count": null,
   "metadata": {},
   "outputs": [],
   "source": []
  },
  {
   "cell_type": "markdown",
   "metadata": {},
   "source": [
    "5.) Bank Account Manager - Create a class called Account which will be an abstract class for three other classes called CheckingAccount, SavingsAccount and BusinessAccount. Manage credits and debits from these accounts through an ATM style program."
   ]
  },
  {
   "cell_type": "code",
   "execution_count": 6,
   "metadata": {},
   "outputs": [],
   "source": [
    "from abc import ABC,abstractmethod"
   ]
  },
  {
   "cell_type": "code",
   "execution_count": null,
   "metadata": {},
   "outputs": [],
   "source": [
    "class Account(ABC):\n",
    "    @abstractmethod\n",
    "    def Credited():\n",
    "        pass\n",
    "    @abstractmethod\n",
    "    def Debited():\n",
    "        pass\n",
    "    @abstractmethod\n",
    "    def ShowBalance():\n",
    "        pass\n",
    "    @abstractmethod\n",
    "    def ShowTransations():\n",
    "        pass\n"
   ]
  },
  {
   "cell_type": "code",
   "execution_count": null,
   "metadata": {},
   "outputs": [],
   "source": [
    "class CheckingAccount(Account):\n",
    "    def __init__(self,name,balance):\n",
    "        self.name=name\n",
    "        self.balance=balance\n",
    "        self.transaction={}\n",
    "    def Credited(self,amount):\n",
    "        x=self.balance+ amount\n",
    "        self.transaction[f\"credited{amount}\"]=x\n",
    "        self.balance=x\n",
    "    def Debited(self,amount):\n",
    "        if amount>self.balance:\n",
    "            return \"Not Enough balance\"\n",
    "        x=self.balance- amount\n",
    "        self.transaction[f\"debited{amount}\"]=x\n",
    "        self.balance=x\n",
    "    def ShowBalance(self):\n",
    "        return self.balance\n",
    "    def ShowTransations(self):\n",
    "        print(\"Transaction\"+\" \"*5+\"Available\")\n",
    "        for k,v in self.transaction.items():\n",
    "            print(k,\" \"*13,v)\n",
    "            "
   ]
  },
  {
   "cell_type": "code",
   "execution_count": 12,
   "metadata": {},
   "outputs": [
    {
     "name": "stdout",
     "output_type": "stream",
     "text": [
      "Transaction     Available\n",
      "1               A\n",
      "2               B\n"
     ]
    }
   ],
   "source": [
    "d={1:\"A\",2:\"B\"}\n",
    "print(\"Transaction\"+\" \"*5+\"Available\")\n",
    "for k,v in d.items():\n",
    "    \n",
    "    print(k,\" \"*13,v)"
   ]
  },
  {
   "cell_type": "code",
   "execution_count": null,
   "metadata": {},
   "outputs": [],
   "source": []
  }
 ],
 "metadata": {
  "interpreter": {
   "hash": "061c61d110313ac52e617aab777b9745cbb43feffd0c3c0b40f3e68fad6b6525"
  },
  "kernelspec": {
   "display_name": "Python 3 (ipykernel)",
   "language": "python",
   "name": "python3"
  },
  "language_info": {
   "codemirror_mode": {
    "name": "ipython",
    "version": 3
   },
   "file_extension": ".py",
   "mimetype": "text/x-python",
   "name": "python",
   "nbconvert_exporter": "python",
   "pygments_lexer": "ipython3",
   "version": "3.9.12"
  }
 },
 "nbformat": 4,
 "nbformat_minor": 2
}
